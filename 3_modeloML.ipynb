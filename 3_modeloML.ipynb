{
 "cells": [
  {
   "cell_type": "markdown",
   "metadata": {},
   "source": [
    "# Modelo propuesto\n",
    "\n",
    "## Librerías"
   ]
  },
  {
   "cell_type": "code",
   "execution_count": 1,
   "metadata": {},
   "outputs": [],
   "source": [
    "import pandas as pd\n",
    "from pycaret.classification import *"
   ]
  },
  {
   "cell_type": "markdown",
   "metadata": {},
   "source": [
    "## Exploración con PyCaret\n",
    "\n",
    "### Carga de datos preprocesados\n",
    "\n",
    "Se realiza la carga del archivo `.csv` que contiene el data set resultado del preprocesamiento.  "
   ]
  },
  {
   "cell_type": "code",
   "execution_count": 2,
   "metadata": {},
   "outputs": [
    {
     "data": {
      "text/html": [
       "<div>\n",
       "<style scoped>\n",
       "    .dataframe tbody tr th:only-of-type {\n",
       "        vertical-align: middle;\n",
       "    }\n",
       "\n",
       "    .dataframe tbody tr th {\n",
       "        vertical-align: top;\n",
       "    }\n",
       "\n",
       "    .dataframe thead th {\n",
       "        text-align: right;\n",
       "    }\n",
       "</style>\n",
       "<table border=\"1\" class=\"dataframe\">\n",
       "  <thead>\n",
       "    <tr style=\"text-align: right;\">\n",
       "      <th></th>\n",
       "      <th>GENDER_1</th>\n",
       "      <th>GENDER_2</th>\n",
       "      <th>AGE</th>\n",
       "      <th>SMOKING_1</th>\n",
       "      <th>SMOKING_2</th>\n",
       "      <th>YELLOW_FINGERS_1</th>\n",
       "      <th>YELLOW_FINGERS_2</th>\n",
       "      <th>ANXIETY_1</th>\n",
       "      <th>ANXIETY_2</th>\n",
       "      <th>PEER_PRESSURE_1</th>\n",
       "      <th>...</th>\n",
       "      <th>ALCOHOL CONSUMING_2</th>\n",
       "      <th>COUGHING_1</th>\n",
       "      <th>COUGHING_2</th>\n",
       "      <th>SHORTNESS OF BREATH_1</th>\n",
       "      <th>SHORTNESS OF BREATH_2</th>\n",
       "      <th>SWALLOWING DIFFICULTY_1</th>\n",
       "      <th>SWALLOWING DIFFICULTY_2</th>\n",
       "      <th>CHEST PAIN_1</th>\n",
       "      <th>CHEST PAIN_2</th>\n",
       "      <th>LUNG_CANCER</th>\n",
       "    </tr>\n",
       "  </thead>\n",
       "  <tbody>\n",
       "    <tr>\n",
       "      <th>0</th>\n",
       "      <td>1.0</td>\n",
       "      <td>0.0</td>\n",
       "      <td>69</td>\n",
       "      <td>1.0</td>\n",
       "      <td>0.0</td>\n",
       "      <td>0.0</td>\n",
       "      <td>1.0</td>\n",
       "      <td>0.0</td>\n",
       "      <td>1.0</td>\n",
       "      <td>1.0</td>\n",
       "      <td>...</td>\n",
       "      <td>1.0</td>\n",
       "      <td>0.0</td>\n",
       "      <td>1.0</td>\n",
       "      <td>0.0</td>\n",
       "      <td>1.0</td>\n",
       "      <td>0.0</td>\n",
       "      <td>1.0</td>\n",
       "      <td>0.0</td>\n",
       "      <td>1.0</td>\n",
       "      <td>2</td>\n",
       "    </tr>\n",
       "    <tr>\n",
       "      <th>1</th>\n",
       "      <td>1.0</td>\n",
       "      <td>0.0</td>\n",
       "      <td>74</td>\n",
       "      <td>0.0</td>\n",
       "      <td>1.0</td>\n",
       "      <td>1.0</td>\n",
       "      <td>0.0</td>\n",
       "      <td>1.0</td>\n",
       "      <td>0.0</td>\n",
       "      <td>1.0</td>\n",
       "      <td>...</td>\n",
       "      <td>0.0</td>\n",
       "      <td>1.0</td>\n",
       "      <td>0.0</td>\n",
       "      <td>0.0</td>\n",
       "      <td>1.0</td>\n",
       "      <td>0.0</td>\n",
       "      <td>1.0</td>\n",
       "      <td>0.0</td>\n",
       "      <td>1.0</td>\n",
       "      <td>2</td>\n",
       "    </tr>\n",
       "    <tr>\n",
       "      <th>2</th>\n",
       "      <td>0.0</td>\n",
       "      <td>1.0</td>\n",
       "      <td>59</td>\n",
       "      <td>1.0</td>\n",
       "      <td>0.0</td>\n",
       "      <td>1.0</td>\n",
       "      <td>0.0</td>\n",
       "      <td>1.0</td>\n",
       "      <td>0.0</td>\n",
       "      <td>0.0</td>\n",
       "      <td>...</td>\n",
       "      <td>0.0</td>\n",
       "      <td>0.0</td>\n",
       "      <td>1.0</td>\n",
       "      <td>0.0</td>\n",
       "      <td>1.0</td>\n",
       "      <td>1.0</td>\n",
       "      <td>0.0</td>\n",
       "      <td>0.0</td>\n",
       "      <td>1.0</td>\n",
       "      <td>1</td>\n",
       "    </tr>\n",
       "    <tr>\n",
       "      <th>3</th>\n",
       "      <td>1.0</td>\n",
       "      <td>0.0</td>\n",
       "      <td>63</td>\n",
       "      <td>0.0</td>\n",
       "      <td>1.0</td>\n",
       "      <td>0.0</td>\n",
       "      <td>1.0</td>\n",
       "      <td>0.0</td>\n",
       "      <td>1.0</td>\n",
       "      <td>1.0</td>\n",
       "      <td>...</td>\n",
       "      <td>1.0</td>\n",
       "      <td>1.0</td>\n",
       "      <td>0.0</td>\n",
       "      <td>1.0</td>\n",
       "      <td>0.0</td>\n",
       "      <td>0.0</td>\n",
       "      <td>1.0</td>\n",
       "      <td>0.0</td>\n",
       "      <td>1.0</td>\n",
       "      <td>1</td>\n",
       "    </tr>\n",
       "    <tr>\n",
       "      <th>4</th>\n",
       "      <td>0.0</td>\n",
       "      <td>1.0</td>\n",
       "      <td>63</td>\n",
       "      <td>1.0</td>\n",
       "      <td>0.0</td>\n",
       "      <td>0.0</td>\n",
       "      <td>1.0</td>\n",
       "      <td>1.0</td>\n",
       "      <td>0.0</td>\n",
       "      <td>1.0</td>\n",
       "      <td>...</td>\n",
       "      <td>0.0</td>\n",
       "      <td>0.0</td>\n",
       "      <td>1.0</td>\n",
       "      <td>0.0</td>\n",
       "      <td>1.0</td>\n",
       "      <td>1.0</td>\n",
       "      <td>0.0</td>\n",
       "      <td>1.0</td>\n",
       "      <td>0.0</td>\n",
       "      <td>1</td>\n",
       "    </tr>\n",
       "  </tbody>\n",
       "</table>\n",
       "<p>5 rows × 30 columns</p>\n",
       "</div>"
      ],
      "text/plain": [
       "   GENDER_1  GENDER_2  AGE  SMOKING_1  SMOKING_2  YELLOW_FINGERS_1  \\\n",
       "0       1.0       0.0   69        1.0        0.0               0.0   \n",
       "1       1.0       0.0   74        0.0        1.0               1.0   \n",
       "2       0.0       1.0   59        1.0        0.0               1.0   \n",
       "3       1.0       0.0   63        0.0        1.0               0.0   \n",
       "4       0.0       1.0   63        1.0        0.0               0.0   \n",
       "\n",
       "   YELLOW_FINGERS_2  ANXIETY_1  ANXIETY_2  PEER_PRESSURE_1  ...  \\\n",
       "0               1.0        0.0        1.0              1.0  ...   \n",
       "1               0.0        1.0        0.0              1.0  ...   \n",
       "2               0.0        1.0        0.0              0.0  ...   \n",
       "3               1.0        0.0        1.0              1.0  ...   \n",
       "4               1.0        1.0        0.0              1.0  ...   \n",
       "\n",
       "   ALCOHOL CONSUMING_2  COUGHING_1  COUGHING_2  SHORTNESS OF BREATH_1  \\\n",
       "0                  1.0         0.0         1.0                    0.0   \n",
       "1                  0.0         1.0         0.0                    0.0   \n",
       "2                  0.0         0.0         1.0                    0.0   \n",
       "3                  1.0         1.0         0.0                    1.0   \n",
       "4                  0.0         0.0         1.0                    0.0   \n",
       "\n",
       "   SHORTNESS OF BREATH_2  SWALLOWING DIFFICULTY_1  SWALLOWING DIFFICULTY_2  \\\n",
       "0                    1.0                      0.0                      1.0   \n",
       "1                    1.0                      0.0                      1.0   \n",
       "2                    1.0                      1.0                      0.0   \n",
       "3                    0.0                      0.0                      1.0   \n",
       "4                    1.0                      1.0                      0.0   \n",
       "\n",
       "   CHEST PAIN_1  CHEST PAIN_2  LUNG_CANCER  \n",
       "0           0.0           1.0            2  \n",
       "1           0.0           1.0            2  \n",
       "2           0.0           1.0            1  \n",
       "3           0.0           1.0            1  \n",
       "4           1.0           0.0            1  \n",
       "\n",
       "[5 rows x 30 columns]"
      ]
     },
     "execution_count": 2,
     "metadata": {},
     "output_type": "execute_result"
    }
   ],
   "source": [
    "path = \"lung_cancer_data_preprocessed.csv\" # Ruta del dataset \n",
    "\n",
    "archivo = pd.read_csv(path) # Importación de datos de la ruta\n",
    "df = pd.DataFrame(archivo) # Convertir los datos a un pandas DataFrame\n",
    "\n",
    "df.head()"
   ]
  },
  {
   "cell_type": "markdown",
   "metadata": {},
   "source": [
    "Por medio de la librería `PyCaret` se realiza una exploración de modelos de clasificación a implementar. En primer lugar, se inicializa el entorno y configuran los parámetros de clasificación de acuerdo al dataset cargado e indicando la variable objetivo del modelo supervisado.   "
   ]
  },
  {
   "cell_type": "code",
   "execution_count": 3,
   "metadata": {},
   "outputs": [
    {
     "data": {
      "text/html": [
       "<style type=\"text/css\">\n",
       "#T_4630e_row9_col1 {\n",
       "  background-color: lightgreen;\n",
       "}\n",
       "</style>\n",
       "<table id=\"T_4630e\">\n",
       "  <thead>\n",
       "    <tr>\n",
       "      <th class=\"blank level0\" >&nbsp;</th>\n",
       "      <th id=\"T_4630e_level0_col0\" class=\"col_heading level0 col0\" >Description</th>\n",
       "      <th id=\"T_4630e_level0_col1\" class=\"col_heading level0 col1\" >Value</th>\n",
       "    </tr>\n",
       "  </thead>\n",
       "  <tbody>\n",
       "    <tr>\n",
       "      <th id=\"T_4630e_level0_row0\" class=\"row_heading level0 row0\" >0</th>\n",
       "      <td id=\"T_4630e_row0_col0\" class=\"data row0 col0\" >Session id</td>\n",
       "      <td id=\"T_4630e_row0_col1\" class=\"data row0 col1\" >5086</td>\n",
       "    </tr>\n",
       "    <tr>\n",
       "      <th id=\"T_4630e_level0_row1\" class=\"row_heading level0 row1\" >1</th>\n",
       "      <td id=\"T_4630e_row1_col0\" class=\"data row1 col0\" >Target</td>\n",
       "      <td id=\"T_4630e_row1_col1\" class=\"data row1 col1\" >LUNG_CANCER</td>\n",
       "    </tr>\n",
       "    <tr>\n",
       "      <th id=\"T_4630e_level0_row2\" class=\"row_heading level0 row2\" >2</th>\n",
       "      <td id=\"T_4630e_row2_col0\" class=\"data row2 col0\" >Target type</td>\n",
       "      <td id=\"T_4630e_row2_col1\" class=\"data row2 col1\" >Binary</td>\n",
       "    </tr>\n",
       "    <tr>\n",
       "      <th id=\"T_4630e_level0_row3\" class=\"row_heading level0 row3\" >3</th>\n",
       "      <td id=\"T_4630e_row3_col0\" class=\"data row3 col0\" >Target mapping</td>\n",
       "      <td id=\"T_4630e_row3_col1\" class=\"data row3 col1\" >1: 0, 2: 1</td>\n",
       "    </tr>\n",
       "    <tr>\n",
       "      <th id=\"T_4630e_level0_row4\" class=\"row_heading level0 row4\" >4</th>\n",
       "      <td id=\"T_4630e_row4_col0\" class=\"data row4 col0\" >Original data shape</td>\n",
       "      <td id=\"T_4630e_row4_col1\" class=\"data row4 col1\" >(540, 30)</td>\n",
       "    </tr>\n",
       "    <tr>\n",
       "      <th id=\"T_4630e_level0_row5\" class=\"row_heading level0 row5\" >5</th>\n",
       "      <td id=\"T_4630e_row5_col0\" class=\"data row5 col0\" >Transformed data shape</td>\n",
       "      <td id=\"T_4630e_row5_col1\" class=\"data row5 col1\" >(540, 30)</td>\n",
       "    </tr>\n",
       "    <tr>\n",
       "      <th id=\"T_4630e_level0_row6\" class=\"row_heading level0 row6\" >6</th>\n",
       "      <td id=\"T_4630e_row6_col0\" class=\"data row6 col0\" >Transformed train set shape</td>\n",
       "      <td id=\"T_4630e_row6_col1\" class=\"data row6 col1\" >(378, 30)</td>\n",
       "    </tr>\n",
       "    <tr>\n",
       "      <th id=\"T_4630e_level0_row7\" class=\"row_heading level0 row7\" >7</th>\n",
       "      <td id=\"T_4630e_row7_col0\" class=\"data row7 col0\" >Transformed test set shape</td>\n",
       "      <td id=\"T_4630e_row7_col1\" class=\"data row7 col1\" >(162, 30)</td>\n",
       "    </tr>\n",
       "    <tr>\n",
       "      <th id=\"T_4630e_level0_row8\" class=\"row_heading level0 row8\" >8</th>\n",
       "      <td id=\"T_4630e_row8_col0\" class=\"data row8 col0\" >Numeric features</td>\n",
       "      <td id=\"T_4630e_row8_col1\" class=\"data row8 col1\" >29</td>\n",
       "    </tr>\n",
       "    <tr>\n",
       "      <th id=\"T_4630e_level0_row9\" class=\"row_heading level0 row9\" >9</th>\n",
       "      <td id=\"T_4630e_row9_col0\" class=\"data row9 col0\" >Preprocess</td>\n",
       "      <td id=\"T_4630e_row9_col1\" class=\"data row9 col1\" >True</td>\n",
       "    </tr>\n",
       "    <tr>\n",
       "      <th id=\"T_4630e_level0_row10\" class=\"row_heading level0 row10\" >10</th>\n",
       "      <td id=\"T_4630e_row10_col0\" class=\"data row10 col0\" >Imputation type</td>\n",
       "      <td id=\"T_4630e_row10_col1\" class=\"data row10 col1\" >simple</td>\n",
       "    </tr>\n",
       "    <tr>\n",
       "      <th id=\"T_4630e_level0_row11\" class=\"row_heading level0 row11\" >11</th>\n",
       "      <td id=\"T_4630e_row11_col0\" class=\"data row11 col0\" >Numeric imputation</td>\n",
       "      <td id=\"T_4630e_row11_col1\" class=\"data row11 col1\" >mean</td>\n",
       "    </tr>\n",
       "    <tr>\n",
       "      <th id=\"T_4630e_level0_row12\" class=\"row_heading level0 row12\" >12</th>\n",
       "      <td id=\"T_4630e_row12_col0\" class=\"data row12 col0\" >Categorical imputation</td>\n",
       "      <td id=\"T_4630e_row12_col1\" class=\"data row12 col1\" >mode</td>\n",
       "    </tr>\n",
       "    <tr>\n",
       "      <th id=\"T_4630e_level0_row13\" class=\"row_heading level0 row13\" >13</th>\n",
       "      <td id=\"T_4630e_row13_col0\" class=\"data row13 col0\" >Fold Generator</td>\n",
       "      <td id=\"T_4630e_row13_col1\" class=\"data row13 col1\" >StratifiedKFold</td>\n",
       "    </tr>\n",
       "    <tr>\n",
       "      <th id=\"T_4630e_level0_row14\" class=\"row_heading level0 row14\" >14</th>\n",
       "      <td id=\"T_4630e_row14_col0\" class=\"data row14 col0\" >Fold Number</td>\n",
       "      <td id=\"T_4630e_row14_col1\" class=\"data row14 col1\" >10</td>\n",
       "    </tr>\n",
       "    <tr>\n",
       "      <th id=\"T_4630e_level0_row15\" class=\"row_heading level0 row15\" >15</th>\n",
       "      <td id=\"T_4630e_row15_col0\" class=\"data row15 col0\" >CPU Jobs</td>\n",
       "      <td id=\"T_4630e_row15_col1\" class=\"data row15 col1\" >-1</td>\n",
       "    </tr>\n",
       "    <tr>\n",
       "      <th id=\"T_4630e_level0_row16\" class=\"row_heading level0 row16\" >16</th>\n",
       "      <td id=\"T_4630e_row16_col0\" class=\"data row16 col0\" >Use GPU</td>\n",
       "      <td id=\"T_4630e_row16_col1\" class=\"data row16 col1\" >False</td>\n",
       "    </tr>\n",
       "    <tr>\n",
       "      <th id=\"T_4630e_level0_row17\" class=\"row_heading level0 row17\" >17</th>\n",
       "      <td id=\"T_4630e_row17_col0\" class=\"data row17 col0\" >Log Experiment</td>\n",
       "      <td id=\"T_4630e_row17_col1\" class=\"data row17 col1\" >False</td>\n",
       "    </tr>\n",
       "    <tr>\n",
       "      <th id=\"T_4630e_level0_row18\" class=\"row_heading level0 row18\" >18</th>\n",
       "      <td id=\"T_4630e_row18_col0\" class=\"data row18 col0\" >Experiment Name</td>\n",
       "      <td id=\"T_4630e_row18_col1\" class=\"data row18 col1\" >clf-default-name</td>\n",
       "    </tr>\n",
       "    <tr>\n",
       "      <th id=\"T_4630e_level0_row19\" class=\"row_heading level0 row19\" >19</th>\n",
       "      <td id=\"T_4630e_row19_col0\" class=\"data row19 col0\" >USI</td>\n",
       "      <td id=\"T_4630e_row19_col1\" class=\"data row19 col1\" >0c4a</td>\n",
       "    </tr>\n",
       "  </tbody>\n",
       "</table>\n"
      ],
      "text/plain": [
       "<pandas.io.formats.style.Styler at 0x1e07fbdb950>"
      ]
     },
     "metadata": {},
     "output_type": "display_data"
    }
   ],
   "source": [
    "clf = setup(df, target='LUNG_CANCER')"
   ]
  },
  {
   "cell_type": "markdown",
   "metadata": {},
   "source": [
    "El entorno realiza un mapeo de las variables y las convierte a binarias, no realiza transformaciones de los datos y determina un conjunto de entrenamiento y de pruebas a partir de los datos. \n",
    "\n",
    "A continuación se realiza la comparación de rendimiento y métricas de distintos modelos de clasificación:  "
   ]
  },
  {
   "cell_type": "code",
   "execution_count": 4,
   "metadata": {},
   "outputs": [
    {
     "data": {
      "text/html": [
       "<div>\n",
       "<style scoped>\n",
       "    .dataframe tbody tr th:only-of-type {\n",
       "        vertical-align: middle;\n",
       "    }\n",
       "\n",
       "    .dataframe tbody tr th {\n",
       "        vertical-align: top;\n",
       "    }\n",
       "\n",
       "    .dataframe thead th {\n",
       "        text-align: right;\n",
       "    }\n",
       "</style>\n",
       "<table border=\"1\" class=\"dataframe\">\n",
       "  <thead>\n",
       "    <tr style=\"text-align: right;\">\n",
       "      <th></th>\n",
       "      <th></th>\n",
       "      <th></th>\n",
       "    </tr>\n",
       "    <tr>\n",
       "      <th></th>\n",
       "      <th></th>\n",
       "      <th></th>\n",
       "    </tr>\n",
       "  </thead>\n",
       "  <tbody>\n",
       "    <tr>\n",
       "      <th>Initiated</th>\n",
       "      <td>. . . . . . . . . . . . . . . . . .</td>\n",
       "      <td>11:36:16</td>\n",
       "    </tr>\n",
       "    <tr>\n",
       "      <th>Status</th>\n",
       "      <td>. . . . . . . . . . . . . . . . . .</td>\n",
       "      <td>Loading Estimator</td>\n",
       "    </tr>\n",
       "    <tr>\n",
       "      <th>Estimator</th>\n",
       "      <td>. . . . . . . . . . . . . . . . . .</td>\n",
       "      <td>Logistic Regression</td>\n",
       "    </tr>\n",
       "  </tbody>\n",
       "</table>\n",
       "</div>"
      ],
      "text/plain": [
       "                                                                   \n",
       "                                                                   \n",
       "Initiated  . . . . . . . . . . . . . . . . . .             11:36:16\n",
       "Status     . . . . . . . . . . . . . . . . . .    Loading Estimator\n",
       "Estimator  . . . . . . . . . . . . . . . . . .  Logistic Regression"
      ]
     },
     "metadata": {},
     "output_type": "display_data"
    },
    {
     "data": {
      "text/html": [
       "<style type=\"text/css\">\n",
       "#T_fd07d th {\n",
       "  text-align: left;\n",
       "}\n",
       "#T_fd07d_row0_col0, #T_fd07d_row0_col2, #T_fd07d_row1_col0, #T_fd07d_row1_col1, #T_fd07d_row1_col3, #T_fd07d_row1_col4, #T_fd07d_row1_col5, #T_fd07d_row1_col6, #T_fd07d_row1_col7, #T_fd07d_row2_col0, #T_fd07d_row2_col1, #T_fd07d_row2_col2, #T_fd07d_row2_col3, #T_fd07d_row2_col4, #T_fd07d_row2_col5, #T_fd07d_row2_col6, #T_fd07d_row2_col7, #T_fd07d_row3_col0, #T_fd07d_row3_col1, #T_fd07d_row3_col2, #T_fd07d_row3_col3, #T_fd07d_row3_col4, #T_fd07d_row3_col5, #T_fd07d_row3_col6, #T_fd07d_row3_col7, #T_fd07d_row4_col0, #T_fd07d_row4_col1, #T_fd07d_row4_col2, #T_fd07d_row4_col3, #T_fd07d_row4_col4, #T_fd07d_row4_col5, #T_fd07d_row4_col6, #T_fd07d_row4_col7, #T_fd07d_row5_col0, #T_fd07d_row5_col1, #T_fd07d_row5_col2, #T_fd07d_row5_col3, #T_fd07d_row5_col4, #T_fd07d_row5_col5, #T_fd07d_row5_col6, #T_fd07d_row5_col7, #T_fd07d_row6_col0, #T_fd07d_row6_col1, #T_fd07d_row6_col2, #T_fd07d_row6_col3, #T_fd07d_row6_col4, #T_fd07d_row6_col5, #T_fd07d_row6_col6, #T_fd07d_row6_col7, #T_fd07d_row7_col0, #T_fd07d_row7_col1, #T_fd07d_row7_col2, #T_fd07d_row7_col3, #T_fd07d_row7_col4, #T_fd07d_row7_col5, #T_fd07d_row7_col6, #T_fd07d_row7_col7, #T_fd07d_row8_col0, #T_fd07d_row8_col1, #T_fd07d_row8_col2, #T_fd07d_row8_col3, #T_fd07d_row8_col4, #T_fd07d_row8_col5, #T_fd07d_row8_col6, #T_fd07d_row8_col7, #T_fd07d_row9_col0, #T_fd07d_row9_col1, #T_fd07d_row9_col2, #T_fd07d_row9_col3, #T_fd07d_row9_col4, #T_fd07d_row9_col5, #T_fd07d_row9_col6, #T_fd07d_row9_col7, #T_fd07d_row10_col0, #T_fd07d_row10_col1, #T_fd07d_row10_col2, #T_fd07d_row10_col3, #T_fd07d_row10_col4, #T_fd07d_row10_col5, #T_fd07d_row10_col6, #T_fd07d_row10_col7, #T_fd07d_row11_col0, #T_fd07d_row11_col1, #T_fd07d_row11_col2, #T_fd07d_row11_col3, #T_fd07d_row11_col4, #T_fd07d_row11_col5, #T_fd07d_row11_col6, #T_fd07d_row11_col7, #T_fd07d_row12_col0, #T_fd07d_row12_col1, #T_fd07d_row12_col2, #T_fd07d_row12_col3, #T_fd07d_row12_col4, #T_fd07d_row12_col5, #T_fd07d_row12_col6, #T_fd07d_row12_col7, #T_fd07d_row13_col0, #T_fd07d_row13_col1, #T_fd07d_row13_col2, #T_fd07d_row13_col3, #T_fd07d_row13_col4, #T_fd07d_row13_col5, #T_fd07d_row13_col6, #T_fd07d_row13_col7 {\n",
       "  text-align: left;\n",
       "}\n",
       "#T_fd07d_row0_col1, #T_fd07d_row0_col3, #T_fd07d_row0_col4, #T_fd07d_row0_col5, #T_fd07d_row0_col6, #T_fd07d_row0_col7, #T_fd07d_row1_col2 {\n",
       "  text-align: left;\n",
       "  background-color: yellow;\n",
       "}\n",
       "#T_fd07d_row0_col8, #T_fd07d_row1_col8, #T_fd07d_row3_col8, #T_fd07d_row4_col8, #T_fd07d_row5_col8, #T_fd07d_row6_col8, #T_fd07d_row7_col8, #T_fd07d_row8_col8, #T_fd07d_row9_col8, #T_fd07d_row10_col8, #T_fd07d_row11_col8, #T_fd07d_row12_col8, #T_fd07d_row13_col8 {\n",
       "  text-align: left;\n",
       "  background-color: lightgrey;\n",
       "}\n",
       "#T_fd07d_row2_col8 {\n",
       "  text-align: left;\n",
       "  background-color: yellow;\n",
       "  background-color: lightgrey;\n",
       "}\n",
       "</style>\n",
       "<table id=\"T_fd07d\">\n",
       "  <thead>\n",
       "    <tr>\n",
       "      <th class=\"blank level0\" >&nbsp;</th>\n",
       "      <th id=\"T_fd07d_level0_col0\" class=\"col_heading level0 col0\" >Model</th>\n",
       "      <th id=\"T_fd07d_level0_col1\" class=\"col_heading level0 col1\" >Accuracy</th>\n",
       "      <th id=\"T_fd07d_level0_col2\" class=\"col_heading level0 col2\" >AUC</th>\n",
       "      <th id=\"T_fd07d_level0_col3\" class=\"col_heading level0 col3\" >Recall</th>\n",
       "      <th id=\"T_fd07d_level0_col4\" class=\"col_heading level0 col4\" >Prec.</th>\n",
       "      <th id=\"T_fd07d_level0_col5\" class=\"col_heading level0 col5\" >F1</th>\n",
       "      <th id=\"T_fd07d_level0_col6\" class=\"col_heading level0 col6\" >Kappa</th>\n",
       "      <th id=\"T_fd07d_level0_col7\" class=\"col_heading level0 col7\" >MCC</th>\n",
       "      <th id=\"T_fd07d_level0_col8\" class=\"col_heading level0 col8\" >TT (Sec)</th>\n",
       "    </tr>\n",
       "  </thead>\n",
       "  <tbody>\n",
       "    <tr>\n",
       "      <th id=\"T_fd07d_level0_row0\" class=\"row_heading level0 row0\" >et</th>\n",
       "      <td id=\"T_fd07d_row0_col0\" class=\"data row0 col0\" >Extra Trees Classifier</td>\n",
       "      <td id=\"T_fd07d_row0_col1\" class=\"data row0 col1\" >0.9709</td>\n",
       "      <td id=\"T_fd07d_row0_col2\" class=\"data row0 col2\" >0.9914</td>\n",
       "      <td id=\"T_fd07d_row0_col3\" class=\"data row0 col3\" >0.9709</td>\n",
       "      <td id=\"T_fd07d_row0_col4\" class=\"data row0 col4\" >0.9728</td>\n",
       "      <td id=\"T_fd07d_row0_col5\" class=\"data row0 col5\" >0.9709</td>\n",
       "      <td id=\"T_fd07d_row0_col6\" class=\"data row0 col6\" >0.9418</td>\n",
       "      <td id=\"T_fd07d_row0_col7\" class=\"data row0 col7\" >0.9437</td>\n",
       "      <td id=\"T_fd07d_row0_col8\" class=\"data row0 col8\" >0.0930</td>\n",
       "    </tr>\n",
       "    <tr>\n",
       "      <th id=\"T_fd07d_level0_row1\" class=\"row_heading level0 row1\" >rf</th>\n",
       "      <td id=\"T_fd07d_row1_col0\" class=\"data row1 col0\" >Random Forest Classifier</td>\n",
       "      <td id=\"T_fd07d_row1_col1\" class=\"data row1 col1\" >0.9602</td>\n",
       "      <td id=\"T_fd07d_row1_col2\" class=\"data row1 col2\" >0.9954</td>\n",
       "      <td id=\"T_fd07d_row1_col3\" class=\"data row1 col3\" >0.9602</td>\n",
       "      <td id=\"T_fd07d_row1_col4\" class=\"data row1 col4\" >0.9624</td>\n",
       "      <td id=\"T_fd07d_row1_col5\" class=\"data row1 col5\" >0.9602</td>\n",
       "      <td id=\"T_fd07d_row1_col6\" class=\"data row1 col6\" >0.9204</td>\n",
       "      <td id=\"T_fd07d_row1_col7\" class=\"data row1 col7\" >0.9226</td>\n",
       "      <td id=\"T_fd07d_row1_col8\" class=\"data row1 col8\" >0.1050</td>\n",
       "    </tr>\n",
       "    <tr>\n",
       "      <th id=\"T_fd07d_level0_row2\" class=\"row_heading level0 row2\" >dt</th>\n",
       "      <td id=\"T_fd07d_row2_col0\" class=\"data row2 col0\" >Decision Tree Classifier</td>\n",
       "      <td id=\"T_fd07d_row2_col1\" class=\"data row2 col1\" >0.9577</td>\n",
       "      <td id=\"T_fd07d_row2_col2\" class=\"data row2 col2\" >0.9573</td>\n",
       "      <td id=\"T_fd07d_row2_col3\" class=\"data row2 col3\" >0.9577</td>\n",
       "      <td id=\"T_fd07d_row2_col4\" class=\"data row2 col4\" >0.9633</td>\n",
       "      <td id=\"T_fd07d_row2_col5\" class=\"data row2 col5\" >0.9572</td>\n",
       "      <td id=\"T_fd07d_row2_col6\" class=\"data row2 col6\" >0.9153</td>\n",
       "      <td id=\"T_fd07d_row2_col7\" class=\"data row2 col7\" >0.9208</td>\n",
       "      <td id=\"T_fd07d_row2_col8\" class=\"data row2 col8\" >0.0160</td>\n",
       "    </tr>\n",
       "    <tr>\n",
       "      <th id=\"T_fd07d_level0_row3\" class=\"row_heading level0 row3\" >gbc</th>\n",
       "      <td id=\"T_fd07d_row3_col0\" class=\"data row3 col0\" >Gradient Boosting Classifier</td>\n",
       "      <td id=\"T_fd07d_row3_col1\" class=\"data row3 col1\" >0.9576</td>\n",
       "      <td id=\"T_fd07d_row3_col2\" class=\"data row3 col2\" >0.9783</td>\n",
       "      <td id=\"T_fd07d_row3_col3\" class=\"data row3 col3\" >0.9576</td>\n",
       "      <td id=\"T_fd07d_row3_col4\" class=\"data row3 col4\" >0.9601</td>\n",
       "      <td id=\"T_fd07d_row3_col5\" class=\"data row3 col5\" >0.9575</td>\n",
       "      <td id=\"T_fd07d_row3_col6\" class=\"data row3 col6\" >0.9152</td>\n",
       "      <td id=\"T_fd07d_row3_col7\" class=\"data row3 col7\" >0.9177</td>\n",
       "      <td id=\"T_fd07d_row3_col8\" class=\"data row3 col8\" >0.0600</td>\n",
       "    </tr>\n",
       "    <tr>\n",
       "      <th id=\"T_fd07d_level0_row4\" class=\"row_heading level0 row4\" >lightgbm</th>\n",
       "      <td id=\"T_fd07d_row4_col0\" class=\"data row4 col0\" >Light Gradient Boosting Machine</td>\n",
       "      <td id=\"T_fd07d_row4_col1\" class=\"data row4 col1\" >0.9575</td>\n",
       "      <td id=\"T_fd07d_row4_col2\" class=\"data row4 col2\" >0.9780</td>\n",
       "      <td id=\"T_fd07d_row4_col3\" class=\"data row4 col3\" >0.9575</td>\n",
       "      <td id=\"T_fd07d_row4_col4\" class=\"data row4 col4\" >0.9601</td>\n",
       "      <td id=\"T_fd07d_row4_col5\" class=\"data row4 col5\" >0.9575</td>\n",
       "      <td id=\"T_fd07d_row4_col6\" class=\"data row4 col6\" >0.9151</td>\n",
       "      <td id=\"T_fd07d_row4_col7\" class=\"data row4 col7\" >0.9176</td>\n",
       "      <td id=\"T_fd07d_row4_col8\" class=\"data row4 col8\" >0.0850</td>\n",
       "    </tr>\n",
       "    <tr>\n",
       "      <th id=\"T_fd07d_level0_row5\" class=\"row_heading level0 row5\" >ada</th>\n",
       "      <td id=\"T_fd07d_row5_col0\" class=\"data row5 col0\" >Ada Boost Classifier</td>\n",
       "      <td id=\"T_fd07d_row5_col1\" class=\"data row5 col1\" >0.9311</td>\n",
       "      <td id=\"T_fd07d_row5_col2\" class=\"data row5 col2\" >0.9711</td>\n",
       "      <td id=\"T_fd07d_row5_col3\" class=\"data row5 col3\" >0.9311</td>\n",
       "      <td id=\"T_fd07d_row5_col4\" class=\"data row5 col4\" >0.9338</td>\n",
       "      <td id=\"T_fd07d_row5_col5\" class=\"data row5 col5\" >0.9309</td>\n",
       "      <td id=\"T_fd07d_row5_col6\" class=\"data row5 col6\" >0.8621</td>\n",
       "      <td id=\"T_fd07d_row5_col7\" class=\"data row5 col7\" >0.8649</td>\n",
       "      <td id=\"T_fd07d_row5_col8\" class=\"data row5 col8\" >0.0570</td>\n",
       "    </tr>\n",
       "    <tr>\n",
       "      <th id=\"T_fd07d_level0_row6\" class=\"row_heading level0 row6\" >lr</th>\n",
       "      <td id=\"T_fd07d_row6_col0\" class=\"data row6 col0\" >Logistic Regression</td>\n",
       "      <td id=\"T_fd07d_row6_col1\" class=\"data row6 col1\" >0.9151</td>\n",
       "      <td id=\"T_fd07d_row6_col2\" class=\"data row6 col2\" >0.9672</td>\n",
       "      <td id=\"T_fd07d_row6_col3\" class=\"data row6 col3\" >0.9151</td>\n",
       "      <td id=\"T_fd07d_row6_col4\" class=\"data row6 col4\" >0.9205</td>\n",
       "      <td id=\"T_fd07d_row6_col5\" class=\"data row6 col5\" >0.9148</td>\n",
       "      <td id=\"T_fd07d_row6_col6\" class=\"data row6 col6\" >0.8301</td>\n",
       "      <td id=\"T_fd07d_row6_col7\" class=\"data row6 col7\" >0.8355</td>\n",
       "      <td id=\"T_fd07d_row6_col8\" class=\"data row6 col8\" >0.8890</td>\n",
       "    </tr>\n",
       "    <tr>\n",
       "      <th id=\"T_fd07d_level0_row7\" class=\"row_heading level0 row7\" >ridge</th>\n",
       "      <td id=\"T_fd07d_row7_col0\" class=\"data row7 col0\" >Ridge Classifier</td>\n",
       "      <td id=\"T_fd07d_row7_col1\" class=\"data row7 col1\" >0.8809</td>\n",
       "      <td id=\"T_fd07d_row7_col2\" class=\"data row7 col2\" >0.0000</td>\n",
       "      <td id=\"T_fd07d_row7_col3\" class=\"data row7 col3\" >0.8809</td>\n",
       "      <td id=\"T_fd07d_row7_col4\" class=\"data row7 col4\" >0.8883</td>\n",
       "      <td id=\"T_fd07d_row7_col5\" class=\"data row7 col5\" >0.8802</td>\n",
       "      <td id=\"T_fd07d_row7_col6\" class=\"data row7 col6\" >0.7615</td>\n",
       "      <td id=\"T_fd07d_row7_col7\" class=\"data row7 col7\" >0.7689</td>\n",
       "      <td id=\"T_fd07d_row7_col8\" class=\"data row7 col8\" >0.0210</td>\n",
       "    </tr>\n",
       "    <tr>\n",
       "      <th id=\"T_fd07d_level0_row8\" class=\"row_heading level0 row8\" >lda</th>\n",
       "      <td id=\"T_fd07d_row8_col0\" class=\"data row8 col0\" >Linear Discriminant Analysis</td>\n",
       "      <td id=\"T_fd07d_row8_col1\" class=\"data row8 col1\" >0.8809</td>\n",
       "      <td id=\"T_fd07d_row8_col2\" class=\"data row8 col2\" >0.9613</td>\n",
       "      <td id=\"T_fd07d_row8_col3\" class=\"data row8 col3\" >0.8809</td>\n",
       "      <td id=\"T_fd07d_row8_col4\" class=\"data row8 col4\" >0.8883</td>\n",
       "      <td id=\"T_fd07d_row8_col5\" class=\"data row8 col5\" >0.8802</td>\n",
       "      <td id=\"T_fd07d_row8_col6\" class=\"data row8 col6\" >0.7615</td>\n",
       "      <td id=\"T_fd07d_row8_col7\" class=\"data row8 col7\" >0.7689</td>\n",
       "      <td id=\"T_fd07d_row8_col8\" class=\"data row8 col8\" >0.0170</td>\n",
       "    </tr>\n",
       "    <tr>\n",
       "      <th id=\"T_fd07d_level0_row9\" class=\"row_heading level0 row9\" >nb</th>\n",
       "      <td id=\"T_fd07d_row9_col0\" class=\"data row9 col0\" >Naive Bayes</td>\n",
       "      <td id=\"T_fd07d_row9_col1\" class=\"data row9 col1\" >0.8782</td>\n",
       "      <td id=\"T_fd07d_row9_col2\" class=\"data row9 col2\" >0.9410</td>\n",
       "      <td id=\"T_fd07d_row9_col3\" class=\"data row9 col3\" >0.8782</td>\n",
       "      <td id=\"T_fd07d_row9_col4\" class=\"data row9 col4\" >0.8845</td>\n",
       "      <td id=\"T_fd07d_row9_col5\" class=\"data row9 col5\" >0.8774</td>\n",
       "      <td id=\"T_fd07d_row9_col6\" class=\"data row9 col6\" >0.7562</td>\n",
       "      <td id=\"T_fd07d_row9_col7\" class=\"data row9 col7\" >0.7624</td>\n",
       "      <td id=\"T_fd07d_row9_col8\" class=\"data row9 col8\" >0.0190</td>\n",
       "    </tr>\n",
       "    <tr>\n",
       "      <th id=\"T_fd07d_level0_row10\" class=\"row_heading level0 row10\" >knn</th>\n",
       "      <td id=\"T_fd07d_row10_col0\" class=\"data row10 col0\" >K Neighbors Classifier</td>\n",
       "      <td id=\"T_fd07d_row10_col1\" class=\"data row10 col1\" >0.8596</td>\n",
       "      <td id=\"T_fd07d_row10_col2\" class=\"data row10 col2\" >0.9562</td>\n",
       "      <td id=\"T_fd07d_row10_col3\" class=\"data row10 col3\" >0.8596</td>\n",
       "      <td id=\"T_fd07d_row10_col4\" class=\"data row10 col4\" >0.8762</td>\n",
       "      <td id=\"T_fd07d_row10_col5\" class=\"data row10 col5\" >0.8576</td>\n",
       "      <td id=\"T_fd07d_row10_col6\" class=\"data row10 col6\" >0.7190</td>\n",
       "      <td id=\"T_fd07d_row10_col7\" class=\"data row10 col7\" >0.7352</td>\n",
       "      <td id=\"T_fd07d_row10_col8\" class=\"data row10 col8\" >0.0710</td>\n",
       "    </tr>\n",
       "    <tr>\n",
       "      <th id=\"T_fd07d_level0_row11\" class=\"row_heading level0 row11\" >svm</th>\n",
       "      <td id=\"T_fd07d_row11_col0\" class=\"data row11 col0\" >SVM - Linear Kernel</td>\n",
       "      <td id=\"T_fd07d_row11_col1\" class=\"data row11 col1\" >0.7930</td>\n",
       "      <td id=\"T_fd07d_row11_col2\" class=\"data row11 col2\" >0.0000</td>\n",
       "      <td id=\"T_fd07d_row11_col3\" class=\"data row11 col3\" >0.7930</td>\n",
       "      <td id=\"T_fd07d_row11_col4\" class=\"data row11 col4\" >0.8599</td>\n",
       "      <td id=\"T_fd07d_row11_col5\" class=\"data row11 col5\" >0.7629</td>\n",
       "      <td id=\"T_fd07d_row11_col6\" class=\"data row11 col6\" >0.5835</td>\n",
       "      <td id=\"T_fd07d_row11_col7\" class=\"data row11 col7\" >0.6323</td>\n",
       "      <td id=\"T_fd07d_row11_col8\" class=\"data row11 col8\" >0.0180</td>\n",
       "    </tr>\n",
       "    <tr>\n",
       "      <th id=\"T_fd07d_level0_row12\" class=\"row_heading level0 row12\" >qda</th>\n",
       "      <td id=\"T_fd07d_row12_col0\" class=\"data row12 col0\" >Quadratic Discriminant Analysis</td>\n",
       "      <td id=\"T_fd07d_row12_col1\" class=\"data row12 col1\" >0.6144</td>\n",
       "      <td id=\"T_fd07d_row12_col2\" class=\"data row12 col2\" >0.6145</td>\n",
       "      <td id=\"T_fd07d_row12_col3\" class=\"data row12 col3\" >0.6144</td>\n",
       "      <td id=\"T_fd07d_row12_col4\" class=\"data row12 col4\" >0.6237</td>\n",
       "      <td id=\"T_fd07d_row12_col5\" class=\"data row12 col5\" >0.5785</td>\n",
       "      <td id=\"T_fd07d_row12_col6\" class=\"data row12 col6\" >0.2290</td>\n",
       "      <td id=\"T_fd07d_row12_col7\" class=\"data row12 col7\" >0.2542</td>\n",
       "      <td id=\"T_fd07d_row12_col8\" class=\"data row12 col8\" >0.0250</td>\n",
       "    </tr>\n",
       "    <tr>\n",
       "      <th id=\"T_fd07d_level0_row13\" class=\"row_heading level0 row13\" >dummy</th>\n",
       "      <td id=\"T_fd07d_row13_col0\" class=\"data row13 col0\" >Dummy Classifier</td>\n",
       "      <td id=\"T_fd07d_row13_col1\" class=\"data row13 col1\" >0.4973</td>\n",
       "      <td id=\"T_fd07d_row13_col2\" class=\"data row13 col2\" >0.5000</td>\n",
       "      <td id=\"T_fd07d_row13_col3\" class=\"data row13 col3\" >0.4973</td>\n",
       "      <td id=\"T_fd07d_row13_col4\" class=\"data row13 col4\" >0.2473</td>\n",
       "      <td id=\"T_fd07d_row13_col5\" class=\"data row13 col5\" >0.3304</td>\n",
       "      <td id=\"T_fd07d_row13_col6\" class=\"data row13 col6\" >0.0000</td>\n",
       "      <td id=\"T_fd07d_row13_col7\" class=\"data row13 col7\" >0.0000</td>\n",
       "      <td id=\"T_fd07d_row13_col8\" class=\"data row13 col8\" >0.0190</td>\n",
       "    </tr>\n",
       "  </tbody>\n",
       "</table>\n"
      ],
      "text/plain": [
       "<pandas.io.formats.style.Styler at 0x1e07fbed910>"
      ]
     },
     "metadata": {},
     "output_type": "display_data"
    },
    {
     "data": {
      "text/html": [],
      "text/plain": [
       "<IPython.core.display.HTML object>"
      ]
     },
     "metadata": {},
     "output_type": "display_data"
    }
   ],
   "source": [
    "best_model = compare_models()"
   ]
  },
  {
   "cell_type": "code",
   "execution_count": 5,
   "metadata": {},
   "outputs": [
    {
     "data": {
      "application/vnd.jupyter.widget-view+json": {
       "model_id": "4a938d2329b046ff9445b1de749bf3bf",
       "version_major": 2,
       "version_minor": 0
      },
      "text/plain": [
       "interactive(children=(ToggleButtons(description='Plot Type:', icons=('',), options=(('Pipeline Plot', 'pipelin…"
      ]
     },
     "metadata": {},
     "output_type": "display_data"
    }
   ],
   "source": [
    "evaluate_model(best_model)"
   ]
  },
  {
   "cell_type": "markdown",
   "metadata": {},
   "source": [
    "De acuerdo a los resultados, los modelos con mejores métricas para el conjunto de datos son Random Forest Classifier y Extra Trees Classifier. En el siguiente apartado se evaluarán los modelos por separado para seleccionar uno de los dos. \n",
    "\n",
    "# Evaluación del modelo\n",
    "\n",
    "A continuación, se evaluarán los datos con los modelos de Random Forests Classifier y Extra Trees Classifier.\n",
    "\n",
    "## Librerías\n",
    "\n"
   ]
  },
  {
   "cell_type": "code",
   "execution_count": 28,
   "metadata": {},
   "outputs": [],
   "source": [
    "import pandas as pd\n",
    "from sklearn.model_selection import train_test_split, GridSearchCV\n",
    "from sklearn.metrics import classification_report\n",
    "from yellowbrick.classifier import ConfusionMatrix\n",
    "from sklearn.ensemble import RandomForestClassifier, ExtraTreesClassifier"
   ]
  },
  {
   "cell_type": "markdown",
   "metadata": {},
   "source": [
    "Cargue de los datos preprocesados: "
   ]
  },
  {
   "cell_type": "code",
   "execution_count": 14,
   "metadata": {},
   "outputs": [
    {
     "data": {
      "text/html": [
       "<div>\n",
       "<style scoped>\n",
       "    .dataframe tbody tr th:only-of-type {\n",
       "        vertical-align: middle;\n",
       "    }\n",
       "\n",
       "    .dataframe tbody tr th {\n",
       "        vertical-align: top;\n",
       "    }\n",
       "\n",
       "    .dataframe thead th {\n",
       "        text-align: right;\n",
       "    }\n",
       "</style>\n",
       "<table border=\"1\" class=\"dataframe\">\n",
       "  <thead>\n",
       "    <tr style=\"text-align: right;\">\n",
       "      <th></th>\n",
       "      <th>GENDER_1</th>\n",
       "      <th>GENDER_2</th>\n",
       "      <th>AGE</th>\n",
       "      <th>SMOKING_1</th>\n",
       "      <th>SMOKING_2</th>\n",
       "      <th>YELLOW_FINGERS_1</th>\n",
       "      <th>YELLOW_FINGERS_2</th>\n",
       "      <th>ANXIETY_1</th>\n",
       "      <th>ANXIETY_2</th>\n",
       "      <th>PEER_PRESSURE_1</th>\n",
       "      <th>...</th>\n",
       "      <th>ALCOHOL CONSUMING_2</th>\n",
       "      <th>COUGHING_1</th>\n",
       "      <th>COUGHING_2</th>\n",
       "      <th>SHORTNESS OF BREATH_1</th>\n",
       "      <th>SHORTNESS OF BREATH_2</th>\n",
       "      <th>SWALLOWING DIFFICULTY_1</th>\n",
       "      <th>SWALLOWING DIFFICULTY_2</th>\n",
       "      <th>CHEST PAIN_1</th>\n",
       "      <th>CHEST PAIN_2</th>\n",
       "      <th>LUNG_CANCER</th>\n",
       "    </tr>\n",
       "  </thead>\n",
       "  <tbody>\n",
       "    <tr>\n",
       "      <th>0</th>\n",
       "      <td>1.0</td>\n",
       "      <td>0.0</td>\n",
       "      <td>69</td>\n",
       "      <td>1.0</td>\n",
       "      <td>0.0</td>\n",
       "      <td>0.0</td>\n",
       "      <td>1.0</td>\n",
       "      <td>0.0</td>\n",
       "      <td>1.0</td>\n",
       "      <td>1.0</td>\n",
       "      <td>...</td>\n",
       "      <td>1.0</td>\n",
       "      <td>0.0</td>\n",
       "      <td>1.0</td>\n",
       "      <td>0.0</td>\n",
       "      <td>1.0</td>\n",
       "      <td>0.0</td>\n",
       "      <td>1.0</td>\n",
       "      <td>0.0</td>\n",
       "      <td>1.0</td>\n",
       "      <td>2</td>\n",
       "    </tr>\n",
       "    <tr>\n",
       "      <th>1</th>\n",
       "      <td>1.0</td>\n",
       "      <td>0.0</td>\n",
       "      <td>74</td>\n",
       "      <td>0.0</td>\n",
       "      <td>1.0</td>\n",
       "      <td>1.0</td>\n",
       "      <td>0.0</td>\n",
       "      <td>1.0</td>\n",
       "      <td>0.0</td>\n",
       "      <td>1.0</td>\n",
       "      <td>...</td>\n",
       "      <td>0.0</td>\n",
       "      <td>1.0</td>\n",
       "      <td>0.0</td>\n",
       "      <td>0.0</td>\n",
       "      <td>1.0</td>\n",
       "      <td>0.0</td>\n",
       "      <td>1.0</td>\n",
       "      <td>0.0</td>\n",
       "      <td>1.0</td>\n",
       "      <td>2</td>\n",
       "    </tr>\n",
       "    <tr>\n",
       "      <th>2</th>\n",
       "      <td>0.0</td>\n",
       "      <td>1.0</td>\n",
       "      <td>59</td>\n",
       "      <td>1.0</td>\n",
       "      <td>0.0</td>\n",
       "      <td>1.0</td>\n",
       "      <td>0.0</td>\n",
       "      <td>1.0</td>\n",
       "      <td>0.0</td>\n",
       "      <td>0.0</td>\n",
       "      <td>...</td>\n",
       "      <td>0.0</td>\n",
       "      <td>0.0</td>\n",
       "      <td>1.0</td>\n",
       "      <td>0.0</td>\n",
       "      <td>1.0</td>\n",
       "      <td>1.0</td>\n",
       "      <td>0.0</td>\n",
       "      <td>0.0</td>\n",
       "      <td>1.0</td>\n",
       "      <td>1</td>\n",
       "    </tr>\n",
       "    <tr>\n",
       "      <th>3</th>\n",
       "      <td>1.0</td>\n",
       "      <td>0.0</td>\n",
       "      <td>63</td>\n",
       "      <td>0.0</td>\n",
       "      <td>1.0</td>\n",
       "      <td>0.0</td>\n",
       "      <td>1.0</td>\n",
       "      <td>0.0</td>\n",
       "      <td>1.0</td>\n",
       "      <td>1.0</td>\n",
       "      <td>...</td>\n",
       "      <td>1.0</td>\n",
       "      <td>1.0</td>\n",
       "      <td>0.0</td>\n",
       "      <td>1.0</td>\n",
       "      <td>0.0</td>\n",
       "      <td>0.0</td>\n",
       "      <td>1.0</td>\n",
       "      <td>0.0</td>\n",
       "      <td>1.0</td>\n",
       "      <td>1</td>\n",
       "    </tr>\n",
       "    <tr>\n",
       "      <th>4</th>\n",
       "      <td>0.0</td>\n",
       "      <td>1.0</td>\n",
       "      <td>63</td>\n",
       "      <td>1.0</td>\n",
       "      <td>0.0</td>\n",
       "      <td>0.0</td>\n",
       "      <td>1.0</td>\n",
       "      <td>1.0</td>\n",
       "      <td>0.0</td>\n",
       "      <td>1.0</td>\n",
       "      <td>...</td>\n",
       "      <td>0.0</td>\n",
       "      <td>0.0</td>\n",
       "      <td>1.0</td>\n",
       "      <td>0.0</td>\n",
       "      <td>1.0</td>\n",
       "      <td>1.0</td>\n",
       "      <td>0.0</td>\n",
       "      <td>1.0</td>\n",
       "      <td>0.0</td>\n",
       "      <td>1</td>\n",
       "    </tr>\n",
       "  </tbody>\n",
       "</table>\n",
       "<p>5 rows × 30 columns</p>\n",
       "</div>"
      ],
      "text/plain": [
       "   GENDER_1  GENDER_2  AGE  SMOKING_1  SMOKING_2  YELLOW_FINGERS_1  \\\n",
       "0       1.0       0.0   69        1.0        0.0               0.0   \n",
       "1       1.0       0.0   74        0.0        1.0               1.0   \n",
       "2       0.0       1.0   59        1.0        0.0               1.0   \n",
       "3       1.0       0.0   63        0.0        1.0               0.0   \n",
       "4       0.0       1.0   63        1.0        0.0               0.0   \n",
       "\n",
       "   YELLOW_FINGERS_2  ANXIETY_1  ANXIETY_2  PEER_PRESSURE_1  ...  \\\n",
       "0               1.0        0.0        1.0              1.0  ...   \n",
       "1               0.0        1.0        0.0              1.0  ...   \n",
       "2               0.0        1.0        0.0              0.0  ...   \n",
       "3               1.0        0.0        1.0              1.0  ...   \n",
       "4               1.0        1.0        0.0              1.0  ...   \n",
       "\n",
       "   ALCOHOL CONSUMING_2  COUGHING_1  COUGHING_2  SHORTNESS OF BREATH_1  \\\n",
       "0                  1.0         0.0         1.0                    0.0   \n",
       "1                  0.0         1.0         0.0                    0.0   \n",
       "2                  0.0         0.0         1.0                    0.0   \n",
       "3                  1.0         1.0         0.0                    1.0   \n",
       "4                  0.0         0.0         1.0                    0.0   \n",
       "\n",
       "   SHORTNESS OF BREATH_2  SWALLOWING DIFFICULTY_1  SWALLOWING DIFFICULTY_2  \\\n",
       "0                    1.0                      0.0                      1.0   \n",
       "1                    1.0                      0.0                      1.0   \n",
       "2                    1.0                      1.0                      0.0   \n",
       "3                    0.0                      0.0                      1.0   \n",
       "4                    1.0                      1.0                      0.0   \n",
       "\n",
       "   CHEST PAIN_1  CHEST PAIN_2  LUNG_CANCER  \n",
       "0           0.0           1.0            2  \n",
       "1           0.0           1.0            2  \n",
       "2           0.0           1.0            1  \n",
       "3           0.0           1.0            1  \n",
       "4           1.0           0.0            1  \n",
       "\n",
       "[5 rows x 30 columns]"
      ]
     },
     "execution_count": 14,
     "metadata": {},
     "output_type": "execute_result"
    }
   ],
   "source": [
    "path = \"lung_cancer_data_preprocessed.csv\" # Ruta del dataset \n",
    "\n",
    "archivo = pd.read_csv(path) # Importación de datos de la ruta\n",
    "df = pd.DataFrame(archivo) # Convertir los datos a un pandas DataFrame\n",
    "\n",
    "df.head()"
   ]
  },
  {
   "cell_type": "markdown",
   "metadata": {},
   "source": [
    "Definición de conjuntos de entrenamiento y de pruebas con proporciones del 0.8 y 0.2 respectivamente: "
   ]
  },
  {
   "cell_type": "code",
   "execution_count": 23,
   "metadata": {},
   "outputs": [
    {
     "name": "stdout",
     "output_type": "stream",
     "text": [
      "Tamaño del conjunto de entrenamiento: X_train: (432, 29), y_train: (432,)\n",
      "Tamaño del conjunto de prueba: X_test: (108, 29), y_test: (108,)\n",
      "Tamaño del dataset completo: (540, 30)\n"
     ]
    }
   ],
   "source": [
    "X = df.drop('LUNG_CANCER', axis=1)\n",
    "y = df['LUNG_CANCER']\n",
    "\n",
    "X_train, X_test, y_train, y_test = train_test_split(X, y, test_size=0.2, random_state=42)\n",
    "print(f\"Tamaño del conjunto de entrenamiento: X_train: {X_train.shape}, y_train: {y_train.shape}\")\n",
    "print(f\"Tamaño del conjunto de prueba: X_test: {X_test.shape}, y_test: {y_test.shape}\")\n",
    "print(f\"Tamaño del dataset completo: {df.shape}\")"
   ]
  },
  {
   "cell_type": "markdown",
   "metadata": {},
   "source": [
    "## Random Forest Classifier\n",
    "\n",
    "A continuación, se realiza una búsqueda de los mejores hiperparámetros para el modelo usando `GridSearchCV`, definiendo un rango considerable de estimadores, el número máximo de variables consideradas para dividir un nodo, se estima una profundidad de cada árbol entre 4 y 8 y dos medidas de calidad. "
   ]
  },
  {
   "cell_type": "code",
   "execution_count": 26,
   "metadata": {},
   "outputs": [
    {
     "name": "stdout",
     "output_type": "stream",
     "text": [
      "Best cross-validation accuracy: 0.97\n",
      "Best parameters: {'criterion': 'gini', 'max_depth': 8, 'max_features': 'auto', 'n_estimators': 100}\n",
      "Test set accuracy: 0.97\n"
     ]
    }
   ],
   "source": [
    "param_grid = {\n",
    "    'n_estimators': [100, 200, 500],\n",
    "    'max_features': ['auto', 'sqrt', 'log2'],\n",
    "    'max_depth' : [4,5,6,7,8],\n",
    "    'criterion' :['gini', 'entropy']\n",
    "}\n",
    "\n",
    "grid = GridSearchCV(RandomForestClassifier(), param_grid=param_grid, cv=5)\n",
    "grid.fit(X_train, y_train)\n",
    "print(f\"Best cross-validation accuracy: {(grid.best_score_):.2f}\")\n",
    "print(f\"Best parameters: {grid.best_params_}\")\n",
    "print(f\"Test set accuracy: {(grid.score(X_test, y_test)):.2f}\")"
   ]
  },
  {
   "cell_type": "markdown",
   "metadata": {},
   "source": [
    "Utilizamos los mejores parámetros seleccionados en el paso anterior para evaluar nuestro modelo: "
   ]
  },
  {
   "cell_type": "code",
   "execution_count": 27,
   "metadata": {},
   "outputs": [
    {
     "name": "stdout",
     "output_type": "stream",
     "text": [
      "Accuracy on training set: 0.991\n",
      "Accuracy on test set: 0.981\n"
     ]
    }
   ],
   "source": [
    "forest = RandomForestClassifier(criterion=\"gini\", max_depth=8, n_estimators=100)\n",
    "forest.fit(X_train, y_train)\n",
    "print(f\"Accuracy on training set: {forest.score(X_train, y_train):.3f}\")\n",
    "print(f\"Accuracy on test set: {forest.score(X_test, y_test):.3f}\")"
   ]
  },
  {
   "cell_type": "markdown",
   "metadata": {},
   "source": [
    "La precisión es alta tanto para el conjunto de entrenamiento como para el conjunto de prueba, indicando un modelo muy eficiente. "
   ]
  },
  {
   "cell_type": "code",
   "execution_count": 35,
   "metadata": {},
   "outputs": [
    {
     "data": {
      "image/png": "[encoded data removed]",
      "text/plain": [
       "<Figure size 800x550 with 1 Axes>"
      ]
     },
     "metadata": {},
     "output_type": "display_data"
    },
    {
     "data": {
      "text/plain": [
       "<Axes: title={'center': 'RandomForestClassifier Confusion Matrix'}, xlabel='Predicted Class', ylabel='True Class'>"
      ]
     },
     "execution_count": 35,
     "metadata": {},
     "output_type": "execute_result"
    }
   ],
   "source": [
    "cm = ConfusionMatrix(forest)\n",
    "cm.fit(X_train, y_train)\n",
    "cm.score(X_test, y_test)\n",
    "cm.show()"
   ]
  },
  {
   "cell_type": "markdown",
   "metadata": {},
   "source": [
    "La matriz de confusión presenta un grado alto de clasificación, mostrando solo dos casos de falsos positivos y ninguno de falso negativo. "
   ]
  },
  {
   "cell_type": "code",
   "execution_count": 36,
   "metadata": {},
   "outputs": [
    {
     "name": "stdout",
     "output_type": "stream",
     "text": [
      "              precision    recall  f1-score   support\n",
      "\n",
      "           1       0.96      1.00      0.98        51\n",
      "           2       1.00      0.96      0.98        57\n",
      "\n",
      "    accuracy                           0.98       108\n",
      "   macro avg       0.98      0.98      0.98       108\n",
      "weighted avg       0.98      0.98      0.98       108\n",
      "\n"
     ]
    }
   ],
   "source": [
    "y_pred = forest.predict(X_test)\n",
    "print(classification_report(y_test, y_pred))"
   ]
  },
  {
   "cell_type": "markdown",
   "metadata": {},
   "source": [
    "Las métricas del modelo entrenado nos presenta una precisión general del 98%, lo que es aún superior a los resultados obtenidos con PyCaret en el mismo modelo. La precisión es perfecta en el caso de los pacientes con cáncer de pulmón, y el recall nos indica una inclinación favorable hacia los pacientes sin dicho diagnóstico. \n",
    "\n",
    "## Extra Trees Classifier\n",
    "\n",
    "De manera similar con el modelo anterior, buscamos los hiperparámetros adecuados para el entrenamiento y evaluación. Se determinó un rango de estimadores entre 100 y 300, se usaron los mismos métodos para el número máximo de variables, y se determinaron el número mínimo de muestras requeridas para dividir un nodo interno con 2, 5 y 10 muestras. "
   ]
  },
  {
   "cell_type": "code",
   "execution_count": 37,
   "metadata": {},
   "outputs": [
    {
     "name": "stdout",
     "output_type": "stream",
     "text": [
      "Best cross-validation accuracy: 0.97\n",
      "Best parameters: {'max_features': 'sqrt', 'min_samples_split': 2, 'n_estimators': 200}\n",
      "Test set accuracy: 0.99\n"
     ]
    }
   ],
   "source": [
    "param_grid = {\n",
    "    'n_estimators': [100, 200, 300],\n",
    "    'max_features': ['auto', 'sqrt', 'log2'],  \n",
    "    'min_samples_split': [2, 5, 10],\n",
    "}\n",
    "\n",
    "grid = GridSearchCV(ExtraTreesClassifier(), param_grid=param_grid, cv=5)\n",
    "grid.fit(X_train, y_train)\n",
    "print(f\"Best cross-validation accuracy: {(grid.best_score_):.2f}\")\n",
    "print(f\"Best parameters: {grid.best_params_}\")\n",
    "print(f\"Test set accuracy: {(grid.score(X_test, y_test)):.2f}\")"
   ]
  },
  {
   "cell_type": "markdown",
   "metadata": {},
   "source": [
    "De acuerdo con los parámetros definidos establecemos el modelo para su evaluación. "
   ]
  },
  {
   "cell_type": "code",
   "execution_count": 38,
   "metadata": {},
   "outputs": [
    {
     "name": "stdout",
     "output_type": "stream",
     "text": [
      "Accuracy on training set: 0.998\n",
      "Accuracy on test set: 0.991\n"
     ]
    }
   ],
   "source": [
    "extra = ExtraTreesClassifier(max_features='sqrt', min_samples_split= 2, n_estimators= 200)\n",
    "extra.fit(X_train, y_train)\n",
    "print(f\"Accuracy on training set: {extra.score(X_train, y_train):.3f}\")\n",
    "print(f\"Accuracy on test set: {extra.score(X_test, y_test):.3f}\")"
   ]
  },
  {
   "cell_type": "markdown",
   "metadata": {},
   "source": [
    "Generamos la matriz de confusión para ver la capacidad de clasificación del modelo. "
   ]
  },
  {
   "cell_type": "code",
   "execution_count": 39,
   "metadata": {},
   "outputs": [
    {
     "data": {
      "image/png": "[encoded data removed]",
      "text/plain": [
       "<Figure size 800x550 with 1 Axes>"
      ]
     },
     "metadata": {},
     "output_type": "display_data"
    },
    {
     "data": {
      "text/plain": [
       "<Axes: title={'center': 'ExtraTreesClassifier Confusion Matrix'}, xlabel='Predicted Class', ylabel='True Class'>"
      ]
     },
     "execution_count": 39,
     "metadata": {},
     "output_type": "execute_result"
    }
   ],
   "source": [
    "cm = ConfusionMatrix(extra)\n",
    "cm.fit(X_train, y_train)\n",
    "cm.score(X_test, y_test)\n",
    "cm.show()"
   ]
  },
  {
   "cell_type": "markdown",
   "metadata": {},
   "source": [
    "La matriz de confusión demuestra un nivel casi perfecto de clasificación del modelo, con solo un falso positivo en los resultados.  "
   ]
  },
  {
   "cell_type": "code",
   "execution_count": 40,
   "metadata": {},
   "outputs": [
    {
     "name": "stdout",
     "output_type": "stream",
     "text": [
      "              precision    recall  f1-score   support\n",
      "\n",
      "           1       0.98      1.00      0.99        51\n",
      "           2       1.00      0.98      0.99        57\n",
      "\n",
      "    accuracy                           0.99       108\n",
      "   macro avg       0.99      0.99      0.99       108\n",
      "weighted avg       0.99      0.99      0.99       108\n",
      "\n"
     ]
    }
   ],
   "source": [
    "y_pred = extra.predict(X_test)\n",
    "print(classification_report(y_test, y_pred))"
   ]
  },
  {
   "cell_type": "markdown",
   "metadata": {},
   "source": [
    "Las métricas del modelo reflejan una precisión muy alta, logrando un 99%, lo que se traduce en un entrenamiento y clasificación muy eficiente, por encima de la mayoría de modelos. \n",
    "\n",
    "## Conclusión\n",
    "\n",
    "Para la solución propuesta se selecciona el modelo de entrenamiento Extra Tree Classifier, le cual logra tener resultados superiores en comparación al Random Forest Classifier. A pesar del buen desempeño de éste último y una poca diferencia entre los dos modelos, Extra Tree Classifier logró una matriz de confusión más consolidada en el conjunto de pruebas, así como métricas de precisión más acertadas. "
   ]
  }
 ],
 "metadata": {
  "kernelspec": {
   "display_name": "UAO",
   "language": "python",
   "name": "python3"
  },
  "language_info": {
   "codemirror_mode": {
    "name": "ipython",
    "version": 3
   },
   "file_extension": ".py",
   "mimetype": "text/x-python",
   "name": "python",
   "nbconvert_exporter": "python",
   "pygments_lexer": "ipython3",
   "version": "3.11.5"
  }
 },
 "nbformat": 4,
 "nbformat_minor": 2
}
